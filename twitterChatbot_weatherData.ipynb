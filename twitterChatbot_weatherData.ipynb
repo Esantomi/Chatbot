{
  "nbformat": 4,
  "nbformat_minor": 0,
  "metadata": {
    "kernelspec": {
      "display_name": "Python 3",
      "language": "python",
      "name": "python3"
    },
    "language_info": {
      "codemirror_mode": {
        "name": "ipython",
        "version": 3
      },
      "file_extension": ".py",
      "mimetype": "text/x-python",
      "name": "python",
      "nbconvert_exporter": "python",
      "pygments_lexer": "ipython3",
      "version": "3.8.5"
    },
    "colab": {
      "name": "twitterChatbot_weatherData.ipynb",
      "provenance": [],
      "collapsed_sections": [],
      "include_colab_link": true
    }
  },
  "cells": [
    {
      "cell_type": "markdown",
      "metadata": {
        "id": "view-in-github",
        "colab_type": "text"
      },
      "source": [
        "<a href=\"https://colab.research.google.com/github/Esantomi/Chatbot/blob/main/twitterChatbot_weatherData.ipynb\" target=\"_parent\"><img src=\"https://colab.research.google.com/assets/colab-badge.svg\" alt=\"Open In Colab\"/></a>"
      ]
    },
    {
      "cell_type": "markdown",
      "metadata": {
        "id": "TtxVcaF_vD99"
      },
      "source": [
        "# 필요한 모듈 import"
      ]
    },
    {
      "cell_type": "code",
      "metadata": {
        "colab": {
          "base_uri": "https://localhost:8080/"
        },
        "id": "FToXd0K2vFOG",
        "outputId": "fe31bb4d-06f0-4d00-f288-b3d7c5c69b22"
      },
      "source": [
        "from google.colab import drive\n",
        "drive.mount('/content/gdrive')"
      ],
      "execution_count": 3,
      "outputs": [
        {
          "output_type": "stream",
          "text": [
            "Drive already mounted at /content/gdrive; to attempt to forcibly remount, call drive.mount(\"/content/gdrive\", force_remount=True).\n"
          ],
          "name": "stdout"
        }
      ]
    },
    {
      "cell_type": "code",
      "metadata": {
        "id": "VDE0sui1vGjA"
      },
      "source": [
        "import os\n",
        "os.chdir(\"/content/gdrive/MyDrive/Colab_Notebooks/트위터봇_코드\")"
      ],
      "execution_count": 4,
      "outputs": []
    },
    {
      "cell_type": "code",
      "metadata": {
        "id": "IK8e43KVvD9-"
      },
      "source": [
        "#날짜 관련 모듈\n",
        "import datetime\n",
        "\n",
        "#엑셀 파일 여는 모듈\n",
        "import pandas as pd\n",
        "\n",
        "# API를 받는 데 필요한 모듈\n",
        "from urllib.request import urlopen\n",
        "from urllib.parse import urlencode, unquote, quote_plus\n",
        "import urllib\n",
        "import requests\n",
        "import json"
      ],
      "execution_count": 6,
      "outputs": []
    },
    {
      "cell_type": "markdown",
      "metadata": {
        "id": "XoQck-VjvD9_"
      },
      "source": [
        "# 날씨 정보 가져오기"
      ]
    },
    {
      "cell_type": "markdown",
      "metadata": {
        "id": "UqiPEFfDvD9_"
      },
      "source": [
        "## API 가져오는 법 \n",
        "1) 설명해주는 문서 파일 다운 받기 <br>\n",
        "2) 원하는 서비스 부분 찾기"
      ]
    },
    {
      "cell_type": "code",
      "metadata": {
        "id": "dQmyu-hevD9_"
      },
      "source": [
        "# 기상청_동네예보 조회서비스 decoding key 가져오기\n",
        "# https://www.data.go.kr/iim/api/selectAPIAcountView.do\n",
        "service_key = \"Ah/PAcOed3J9ZSo5sfX8YALuElqr02D/EZgkIRKTxx75qQCTVaJql1v0Z20AMfP3UC5Miww6RRRIDOHJn4BQiw==\"\n",
        "\n",
        "today = datetime.datetime.today()\n",
        "base_date = today.strftime(\"%Y%m%d\") # \"20210723\" == 기준 날짜\n",
        "base_time = \"1400\" # 날씨 값 오늘은 1400 기준으로 가져오겠습니다. (보통 40분 뒤에 업데이트)\n",
        "\n",
        "nx = \"60\"  # 경도 좌표 가져오기\n",
        "ny = \"128\""
      ],
      "execution_count": 7,
      "outputs": []
    },
    {
      "cell_type": "code",
      "metadata": {
        "colab": {
          "base_uri": "https://localhost:8080/",
          "height": 35
        },
        "id": "883lbhVXa2Gi",
        "outputId": "f4de7995-6c9c-4592-87f6-d61fc6d74bc2"
      },
      "source": [
        "base_date"
      ],
      "execution_count": 9,
      "outputs": [
        {
          "output_type": "execute_result",
          "data": {
            "application/vnd.google.colaboratory.intrinsic+json": {
              "type": "string"
            },
            "text/plain": [
              "'20210723'"
            ]
          },
          "metadata": {
            "tags": []
          },
          "execution_count": 9
        }
      ]
    },
    {
      "cell_type": "markdown",
      "metadata": {
        "id": "RDy_Vdg5vD9_"
      },
      "source": [
        "## 데이터 가져오기"
      ]
    },
    {
      "cell_type": "markdown",
      "metadata": {
        "id": "4vB_7W0CvD9_"
      },
      "source": [
        "동네예보\n",
        "- Base_time : 0200, 0500, 0800, 1100, 1400, 1700, 2000, 2300 (1일 8회)\n",
        "- API 제공 시간(~이후) : 02:05, 05:05, 08:05, 11:05, 14:05, 17:05, 20:05, 23:05 <br>\n",
        "※ 예보 생성시간에 따라 API 제공 시간의 변동이 있을 수 있음\n"
      ]
    },
    {
      "cell_type": "code",
      "metadata": {
        "id": "E3rIKfSwvD9_"
      },
      "source": [
        "def get_weather_data(service_key, base_date, base_time, nx, ny):\n",
        "    # Setting for URL parsing\n",
        "\n",
        "    CallBackURL = 'http://apis.data.go.kr/1360000/VilageFcstInfoService/getVilageFcst'\n",
        "    \n",
        "    # 기상청18_동네예보 조회서비스_오픈API활용가이드.docx 참고\n",
        "    params = '?' + urlencode({\n",
        "        quote_plus(\"serviceKey\"): service_key,  # 인증키\n",
        "        quote_plus(\"numOfRows\"): \"10\",          # 한 페이지 결과 수 // default : 10\n",
        "        quote_plus(\"pageNo\"): \"1\",              # 페이지 번호 // default : 1\n",
        "        quote_plus(\"dataType\"): \"JSON\",         # 응답자료형식 : XML, JSON\n",
        "        quote_plus(\"base_date\"): base_date,     # 발표일자 // yyyymmdd\n",
        "        quote_plus(\"base_time\"): base_time,     # 발표시각 // HHMM, 매 시각 40분 이후 호출\n",
        "        quote_plus(\"nx\"): nx,                   # 예보지점 X 좌표\n",
        "        quote_plus(\"ny\"): ny                    # 예보지점 Y 좌표\n",
        "    })\n",
        "\n",
        "    final_url = CallBackURL + unquote(params)\n",
        "\n",
        "    # Python이 URL로 들어가서 데이터를 가져옴\n",
        "    req = urllib.request.Request(final_url)\n",
        "\n",
        "    # Get Data from API (가져온 데이터를 파이썬이 읽음)\n",
        "    response_body = urlopen(req).read() # get bytes data\n",
        "\n",
        "    # print(response_body)\n",
        "    # # Convert bytes to json (사람이 읽을 수 있는 형태로 변환)\n",
        "    data = json.loads(response_body)\n",
        "\n",
        "    data = data['response']['body']['items']['item']\n",
        "    \n",
        "    return data"
      ],
      "execution_count": 10,
      "outputs": []
    },
    {
      "cell_type": "markdown",
      "metadata": {
        "id": "j5_NL0zPvD-A"
      },
      "source": [
        "## 데이터 받기"
      ]
    },
    {
      "cell_type": "code",
      "metadata": {
        "id": "3We9QUOlvD-A"
      },
      "source": [
        "data = get_weather_data(service_key, base_date, base_time, nx, ny)"
      ],
      "execution_count": 11,
      "outputs": []
    },
    {
      "cell_type": "code",
      "metadata": {
        "scrolled": true,
        "colab": {
          "base_uri": "https://localhost:8080/"
        },
        "id": "_V__YpX7vD-A",
        "outputId": "d777cf2f-2f7d-4418-dcb9-d714a05c6abe"
      },
      "source": [
        "data"
      ],
      "execution_count": 12,
      "outputs": [
        {
          "output_type": "execute_result",
          "data": {
            "text/plain": [
              "[{'baseDate': '20210723',\n",
              "  'baseTime': '1400',\n",
              "  'category': 'POP',\n",
              "  'fcstDate': '20210723',\n",
              "  'fcstTime': '1800',\n",
              "  'fcstValue': '0',\n",
              "  'nx': 60,\n",
              "  'ny': 128},\n",
              " {'baseDate': '20210723',\n",
              "  'baseTime': '1400',\n",
              "  'category': 'PTY',\n",
              "  'fcstDate': '20210723',\n",
              "  'fcstTime': '1800',\n",
              "  'fcstValue': '0',\n",
              "  'nx': 60,\n",
              "  'ny': 128},\n",
              " {'baseDate': '20210723',\n",
              "  'baseTime': '1400',\n",
              "  'category': 'R06',\n",
              "  'fcstDate': '20210723',\n",
              "  'fcstTime': '1800',\n",
              "  'fcstValue': '0',\n",
              "  'nx': 60,\n",
              "  'ny': 128},\n",
              " {'baseDate': '20210723',\n",
              "  'baseTime': '1400',\n",
              "  'category': 'REH',\n",
              "  'fcstDate': '20210723',\n",
              "  'fcstTime': '1800',\n",
              "  'fcstValue': '50',\n",
              "  'nx': 60,\n",
              "  'ny': 128},\n",
              " {'baseDate': '20210723',\n",
              "  'baseTime': '1400',\n",
              "  'category': 'S06',\n",
              "  'fcstDate': '20210723',\n",
              "  'fcstTime': '1800',\n",
              "  'fcstValue': '0',\n",
              "  'nx': 60,\n",
              "  'ny': 128},\n",
              " {'baseDate': '20210723',\n",
              "  'baseTime': '1400',\n",
              "  'category': 'SKY',\n",
              "  'fcstDate': '20210723',\n",
              "  'fcstTime': '1800',\n",
              "  'fcstValue': '1',\n",
              "  'nx': 60,\n",
              "  'ny': 128},\n",
              " {'baseDate': '20210723',\n",
              "  'baseTime': '1400',\n",
              "  'category': 'T3H',\n",
              "  'fcstDate': '20210723',\n",
              "  'fcstTime': '1800',\n",
              "  'fcstValue': '32',\n",
              "  'nx': 60,\n",
              "  'ny': 128},\n",
              " {'baseDate': '20210723',\n",
              "  'baseTime': '1400',\n",
              "  'category': 'UUU',\n",
              "  'fcstDate': '20210723',\n",
              "  'fcstTime': '1800',\n",
              "  'fcstValue': '0',\n",
              "  'nx': 60,\n",
              "  'ny': 128},\n",
              " {'baseDate': '20210723',\n",
              "  'baseTime': '1400',\n",
              "  'category': 'VEC',\n",
              "  'fcstDate': '20210723',\n",
              "  'fcstTime': '1800',\n",
              "  'fcstValue': '175',\n",
              "  'nx': 60,\n",
              "  'ny': 128},\n",
              " {'baseDate': '20210723',\n",
              "  'baseTime': '1400',\n",
              "  'category': 'VVV',\n",
              "  'fcstDate': '20210723',\n",
              "  'fcstTime': '1800',\n",
              "  'fcstValue': '1.2',\n",
              "  'nx': 60,\n",
              "  'ny': 128}]"
            ]
          },
          "metadata": {
            "tags": []
          },
          "execution_count": 12
        }
      ]
    },
    {
      "cell_type": "markdown",
      "metadata": {
        "id": "OXFhmo4qvD-B"
      },
      "source": [
        "## 보기 편하게 바꿔주기"
      ]
    },
    {
      "cell_type": "code",
      "metadata": {
        "colab": {
          "base_uri": "https://localhost:8080/",
          "height": 357
        },
        "id": "JcQkJ7TBvD-B",
        "outputId": "ea966386-87e2-46ae-a5c4-5f7f5b6a2dca"
      },
      "source": [
        "def change_category(category):\n",
        "    response_key = {'POP' : \"강수확률\", 'PTY' : \"강수형태\", 'R06' : \"6시간 강수량\", 'REH' : \"습도\", 'S06' : '6시간 신적설', 'SKY':'하늘상태','T3H' : \"3시간 기온\", \"TMN\" : \"아침 최저기온\", \"TMX\" : \"낮 최고기온\", \"UUU\" : \"풍속(동서성분)\", \"VVV\" : \"풍속(남북성분)\", \"WAV\":\"파고\", \"VEC\" : \"풍향\", \"WSD\" : \"풍속\"}\n",
        "    return response_key[category]\n",
        "\n",
        "\n",
        "# Result\n",
        "res = pd.DataFrame(data)\n",
        "\n",
        "res['category'] = res['category'].apply(change_category)\n",
        "\n",
        "res"
      ],
      "execution_count": 13,
      "outputs": [
        {
          "output_type": "execute_result",
          "data": {
            "text/html": [
              "<div>\n",
              "<style scoped>\n",
              "    .dataframe tbody tr th:only-of-type {\n",
              "        vertical-align: middle;\n",
              "    }\n",
              "\n",
              "    .dataframe tbody tr th {\n",
              "        vertical-align: top;\n",
              "    }\n",
              "\n",
              "    .dataframe thead th {\n",
              "        text-align: right;\n",
              "    }\n",
              "</style>\n",
              "<table border=\"1\" class=\"dataframe\">\n",
              "  <thead>\n",
              "    <tr style=\"text-align: right;\">\n",
              "      <th></th>\n",
              "      <th>baseDate</th>\n",
              "      <th>baseTime</th>\n",
              "      <th>category</th>\n",
              "      <th>fcstDate</th>\n",
              "      <th>fcstTime</th>\n",
              "      <th>fcstValue</th>\n",
              "      <th>nx</th>\n",
              "      <th>ny</th>\n",
              "    </tr>\n",
              "  </thead>\n",
              "  <tbody>\n",
              "    <tr>\n",
              "      <th>0</th>\n",
              "      <td>20210723</td>\n",
              "      <td>1400</td>\n",
              "      <td>강수확률</td>\n",
              "      <td>20210723</td>\n",
              "      <td>1800</td>\n",
              "      <td>0</td>\n",
              "      <td>60</td>\n",
              "      <td>128</td>\n",
              "    </tr>\n",
              "    <tr>\n",
              "      <th>1</th>\n",
              "      <td>20210723</td>\n",
              "      <td>1400</td>\n",
              "      <td>강수형태</td>\n",
              "      <td>20210723</td>\n",
              "      <td>1800</td>\n",
              "      <td>0</td>\n",
              "      <td>60</td>\n",
              "      <td>128</td>\n",
              "    </tr>\n",
              "    <tr>\n",
              "      <th>2</th>\n",
              "      <td>20210723</td>\n",
              "      <td>1400</td>\n",
              "      <td>6시간 강수량</td>\n",
              "      <td>20210723</td>\n",
              "      <td>1800</td>\n",
              "      <td>0</td>\n",
              "      <td>60</td>\n",
              "      <td>128</td>\n",
              "    </tr>\n",
              "    <tr>\n",
              "      <th>3</th>\n",
              "      <td>20210723</td>\n",
              "      <td>1400</td>\n",
              "      <td>습도</td>\n",
              "      <td>20210723</td>\n",
              "      <td>1800</td>\n",
              "      <td>50</td>\n",
              "      <td>60</td>\n",
              "      <td>128</td>\n",
              "    </tr>\n",
              "    <tr>\n",
              "      <th>4</th>\n",
              "      <td>20210723</td>\n",
              "      <td>1400</td>\n",
              "      <td>6시간 신적설</td>\n",
              "      <td>20210723</td>\n",
              "      <td>1800</td>\n",
              "      <td>0</td>\n",
              "      <td>60</td>\n",
              "      <td>128</td>\n",
              "    </tr>\n",
              "    <tr>\n",
              "      <th>5</th>\n",
              "      <td>20210723</td>\n",
              "      <td>1400</td>\n",
              "      <td>하늘상태</td>\n",
              "      <td>20210723</td>\n",
              "      <td>1800</td>\n",
              "      <td>1</td>\n",
              "      <td>60</td>\n",
              "      <td>128</td>\n",
              "    </tr>\n",
              "    <tr>\n",
              "      <th>6</th>\n",
              "      <td>20210723</td>\n",
              "      <td>1400</td>\n",
              "      <td>3시간 기온</td>\n",
              "      <td>20210723</td>\n",
              "      <td>1800</td>\n",
              "      <td>32</td>\n",
              "      <td>60</td>\n",
              "      <td>128</td>\n",
              "    </tr>\n",
              "    <tr>\n",
              "      <th>7</th>\n",
              "      <td>20210723</td>\n",
              "      <td>1400</td>\n",
              "      <td>풍속(동서성분)</td>\n",
              "      <td>20210723</td>\n",
              "      <td>1800</td>\n",
              "      <td>0</td>\n",
              "      <td>60</td>\n",
              "      <td>128</td>\n",
              "    </tr>\n",
              "    <tr>\n",
              "      <th>8</th>\n",
              "      <td>20210723</td>\n",
              "      <td>1400</td>\n",
              "      <td>풍향</td>\n",
              "      <td>20210723</td>\n",
              "      <td>1800</td>\n",
              "      <td>175</td>\n",
              "      <td>60</td>\n",
              "      <td>128</td>\n",
              "    </tr>\n",
              "    <tr>\n",
              "      <th>9</th>\n",
              "      <td>20210723</td>\n",
              "      <td>1400</td>\n",
              "      <td>풍속(남북성분)</td>\n",
              "      <td>20210723</td>\n",
              "      <td>1800</td>\n",
              "      <td>1.2</td>\n",
              "      <td>60</td>\n",
              "      <td>128</td>\n",
              "    </tr>\n",
              "  </tbody>\n",
              "</table>\n",
              "</div>"
            ],
            "text/plain": [
              "   baseDate baseTime  category  fcstDate fcstTime fcstValue  nx   ny\n",
              "0  20210723     1400      강수확률  20210723     1800         0  60  128\n",
              "1  20210723     1400      강수형태  20210723     1800         0  60  128\n",
              "2  20210723     1400   6시간 강수량  20210723     1800         0  60  128\n",
              "3  20210723     1400        습도  20210723     1800        50  60  128\n",
              "4  20210723     1400   6시간 신적설  20210723     1800         0  60  128\n",
              "5  20210723     1400      하늘상태  20210723     1800         1  60  128\n",
              "6  20210723     1400    3시간 기온  20210723     1800        32  60  128\n",
              "7  20210723     1400  풍속(동서성분)  20210723     1800         0  60  128\n",
              "8  20210723     1400        풍향  20210723     1800       175  60  128\n",
              "9  20210723     1400  풍속(남북성분)  20210723     1800       1.2  60  128"
            ]
          },
          "metadata": {
            "tags": []
          },
          "execution_count": 13
        }
      ]
    },
    {
      "cell_type": "markdown",
      "metadata": {
        "id": "Pzaqs0QQvD-B"
      },
      "source": [
        "## 기온과 비 오는 지 여부 확인하기"
      ]
    },
    {
      "cell_type": "code",
      "metadata": {
        "id": "K_GJe5KGvD-B"
      },
      "source": [
        "# 이 값들 중에서 PTY(강수형태)와 T3H(3시간 기온) 정보를 통해 비가 오는지, 기온은 어떠한지 알 수 있음\n",
        "# PTY : 0-없음 1-비 2-비/눈(진눈깨비) 3-눈 4-소나기\n",
        "\n",
        "data = dict()\n",
        "data['date'] = res.iloc[0]['baseDate']"
      ],
      "execution_count": 14,
      "outputs": []
    },
    {
      "cell_type": "markdown",
      "metadata": {
        "id": "gqEjAR9hvD-B"
      },
      "source": [
        "## 기온 확인"
      ]
    },
    {
      "cell_type": "code",
      "metadata": {
        "colab": {
          "base_uri": "https://localhost:8080/"
        },
        "id": "8T9GjDm8vD-B",
        "outputId": "181520b1-bd16-4d54-f657-ec7c02fc72c9"
      },
      "source": [
        "temparature = res.loc[res[\"category\"]=='3시간 기온', 'fcstValue'].iloc[0]\n",
        "\n",
        "data['temperature'] = temparature\n",
        "data"
      ],
      "execution_count": 15,
      "outputs": [
        {
          "output_type": "execute_result",
          "data": {
            "text/plain": [
              "{'date': '20210723', 'temperature': '32'}"
            ]
          },
          "metadata": {
            "tags": []
          },
          "execution_count": 15
        }
      ]
    },
    {
      "cell_type": "markdown",
      "metadata": {
        "id": "g-KyX_revD-B"
      },
      "source": [
        "## 날씨 여부 확인"
      ]
    },
    {
      "cell_type": "markdown",
      "metadata": {
        "id": "BiVOboKqvD-C"
      },
      "source": [
        "강수형태(PTY) 코드 : 없음(0), 비(1), 비/눈(2), 눈(3), 소나기(4), 빗방울(5), 빗방울/눈날림(6), 눈날림(7) <br>\n",
        "여기서 비/눈은 비와 눈이 섞여 오는 것을 의미 (진눈개비)\n"
      ]
    },
    {
      "cell_type": "code",
      "metadata": {
        "id": "3GzGDRQCvD-C"
      },
      "source": [
        "weather_data = dict()\n",
        "\n",
        "weather_code = res.loc[res[\"category\"]=='강수형태', 'fcstValue'].iloc[0]\n",
        "if weather_code == '1':\n",
        "    weather_state = '비'\n",
        "elif weather_code == '2':\n",
        "    weather_state = '비/눈'\n",
        "elif weather_code == '3':\n",
        "    weather_state = '눈'\n",
        "elif weather_code == '4':\n",
        "    weather_state = '소나기'\n",
        "else:\n",
        "    weather_state = '없음'"
      ],
      "execution_count": 16,
      "outputs": []
    },
    {
      "cell_type": "markdown",
      "metadata": {
        "id": "9L2prUbvvs3d"
      },
      "source": [
        "### 함수로 만들기"
      ]
    },
    {
      "cell_type": "code",
      "metadata": {
        "id": "NeBkNajtvD-C"
      },
      "source": [
        "def get_PTY(res):\n",
        "    ''' \n",
        "    강수형태(PTY) 코드 : 없음(0), 비(1), 비/눈(2), 눈(3), 소나기(4), 빗방울(5), 빗방울/눈날림(6), 눈날림(7) <br>\n",
        "    여기서 비/눈은 비와 눈이 섞여 오는 것을 의미 (진눈개비)\n",
        "    '''\n",
        "    weather_data = dict()\n",
        "\n",
        "    weather_code = res.loc[res[\"category\"]=='강수형태', 'fcstValue'].iloc[0]\n",
        "    if weather_code == '1':\n",
        "        weather_state = '비'\n",
        "    elif weather_code == '2':\n",
        "        weather_state = '비/눈'\n",
        "    elif weather_code == '3':\n",
        "        weather_state = '눈'\n",
        "    elif weather_code == '4':\n",
        "        weather_state = '소나기'\n",
        "    else:\n",
        "        weather_state = '없음'\n",
        "    return weather_state"
      ],
      "execution_count": 17,
      "outputs": []
    },
    {
      "cell_type": "code",
      "metadata": {
        "id": "NFdOECiavD-C"
      },
      "source": [
        "weather_state = get_PTY(res)\n",
        "data['weather'] = weather_state"
      ],
      "execution_count": 18,
      "outputs": []
    },
    {
      "cell_type": "code",
      "metadata": {
        "colab": {
          "base_uri": "https://localhost:8080/"
        },
        "id": "kxCb_Ah5vD-C",
        "outputId": "b206384c-8aae-49dd-f159-a1ca5ef2618c"
      },
      "source": [
        "data"
      ],
      "execution_count": 19,
      "outputs": [
        {
          "output_type": "execute_result",
          "data": {
            "text/plain": [
              "{'date': '20210723', 'temperature': '32', 'weather': '없음'}"
            ]
          },
          "metadata": {
            "tags": []
          },
          "execution_count": 19
        }
      ]
    },
    {
      "cell_type": "markdown",
      "metadata": {
        "id": "J_Ll2lBcvvhp"
      },
      "source": [
        "## 전처리까지 완료한 최종 코드"
      ]
    },
    {
      "cell_type": "code",
      "metadata": {
        "id": "uxs0gYgvvD-C"
      },
      "source": [
        "def get_final_weather_data(service_key, base_date, base_time, nx, ny): \n",
        "        \n",
        "    # 1) 데이터 불러오기 \n",
        "    data = get_weather_data(service_key, base_date, base_time, nx, ny)\n",
        "    res = pd.DataFrame(data)\n",
        "    \n",
        "    # 2) 데이터 전처리\n",
        "    # 2-1) 카테고리 보기 편하게 바꾸기\n",
        "    res['category'] = res['category'].apply(change_category)\n",
        "    \n",
        "    \n",
        "    # 3) 원하는 정보 뽑기 \n",
        "    \n",
        "    # 1) 날짜\n",
        "    result = dict()\n",
        "    result['date'] = res.iloc[0]['baseDate']\n",
        "    \n",
        "    # 2) 기온\n",
        "    temparature = res.loc[res[\"category\"]=='3시간 기온', 'fcstValue'].iloc[0]\n",
        "    result['temperature'] = temparature\n",
        "    \n",
        "    # 3) 강수량\n",
        "    ''' \n",
        "    강수형태(PTY) 코드 : 없음(0), 비(1), 비/눈(2), 눈(3), 소나기(4), 빗방울(5), 빗방울/눈날림(6), 눈날림(7) <br>\n",
        "    여기서 비/눈은 비와 눈이 섞여 오는 것을 의미 (진눈개비)\n",
        "    '''\n",
        "\n",
        "    weather_state = get_PTY(res)\n",
        "    result['weather'] = weather_state\n",
        "    \n",
        "    return result"
      ],
      "execution_count": 20,
      "outputs": []
    },
    {
      "cell_type": "code",
      "metadata": {
        "id": "gOxCLa46vD-C"
      },
      "source": [
        "result = get_final_weather_data(service_key, base_date, base_time, nx, ny)"
      ],
      "execution_count": 21,
      "outputs": []
    },
    {
      "cell_type": "code",
      "metadata": {
        "colab": {
          "base_uri": "https://localhost:8080/"
        },
        "id": "MgHsvFAAvD-C",
        "outputId": "3601a8bd-0ab2-4f4c-f3e4-5de17624adcf"
      },
      "source": [
        "result"
      ],
      "execution_count": 22,
      "outputs": [
        {
          "output_type": "execute_result",
          "data": {
            "text/plain": [
              "{'date': '20210723', 'temperature': '32', 'weather': '없음'}"
            ]
          },
          "metadata": {
            "tags": []
          },
          "execution_count": 22
        }
      ]
    },
    {
      "cell_type": "markdown",
      "metadata": {
        "id": "d_LO3BXSvD-D"
      },
      "source": [
        "# 트위터봇 \n",
        "\n",
        "트위터봇 페이지 : https://twitter.com/osd_weather_BOT"
      ]
    },
    {
      "cell_type": "code",
      "metadata": {
        "collapsed": true,
        "jupyter": {
          "outputs_hidden": true
        },
        "id": "IrURxK-DvD-D",
        "colab": {
          "base_uri": "https://localhost:8080/"
        },
        "outputId": "95083944-4b65-4502-9b46-c8830574f395"
      },
      "source": [
        "!pip install tweepy"
      ],
      "execution_count": 23,
      "outputs": [
        {
          "output_type": "stream",
          "text": [
            "Requirement already satisfied: tweepy in /usr/local/lib/python3.7/dist-packages (3.10.0)\n",
            "Requirement already satisfied: six>=1.10.0 in /usr/local/lib/python3.7/dist-packages (from tweepy) (1.15.0)\n",
            "Requirement already satisfied: requests-oauthlib>=0.7.0 in /usr/local/lib/python3.7/dist-packages (from tweepy) (1.3.0)\n",
            "Requirement already satisfied: requests[socks]>=2.11.1 in /usr/local/lib/python3.7/dist-packages (from tweepy) (2.23.0)\n",
            "Requirement already satisfied: oauthlib>=3.0.0 in /usr/local/lib/python3.7/dist-packages (from requests-oauthlib>=0.7.0->tweepy) (3.1.1)\n",
            "Requirement already satisfied: chardet<4,>=3.0.2 in /usr/local/lib/python3.7/dist-packages (from requests[socks]>=2.11.1->tweepy) (3.0.4)\n",
            "Requirement already satisfied: certifi>=2017.4.17 in /usr/local/lib/python3.7/dist-packages (from requests[socks]>=2.11.1->tweepy) (2021.5.30)\n",
            "Requirement already satisfied: idna<3,>=2.5 in /usr/local/lib/python3.7/dist-packages (from requests[socks]>=2.11.1->tweepy) (2.10)\n",
            "Requirement already satisfied: urllib3!=1.25.0,!=1.25.1,<1.26,>=1.21.1 in /usr/local/lib/python3.7/dist-packages (from requests[socks]>=2.11.1->tweepy) (1.24.3)\n",
            "Requirement already satisfied: PySocks!=1.5.7,>=1.5.6 in /usr/local/lib/python3.7/dist-packages (from requests[socks]>=2.11.1->tweepy) (1.7.1)\n"
          ],
          "name": "stdout"
        }
      ]
    },
    {
      "cell_type": "code",
      "metadata": {
        "id": "AgfqBQS7vD-D"
      },
      "source": [
        "# 트위터 api 사용 모듈 가져오기\n",
        "import tweepy"
      ],
      "execution_count": 24,
      "outputs": []
    },
    {
      "cell_type": "code",
      "metadata": {
        "id": "hmShDW5YvD-D"
      },
      "source": [
        "def send_twitter(tweet):\n",
        "    \n",
        "    consumer_key = 'G3IuuwV43XiFjciRKMHUHPRnP'\n",
        "    consumer_secret = 'Lfet5uPwvG1qCLCuCxmhvk8AOcjIdcuaNVuOdUXWmpP3wjIkw2' # Secret Key\n",
        "    access_token = '1364114536626749441-0ILRGxLotKxyx20AJOCCXBwNWRyoLa'\n",
        "    access_token_secret = '1Oam6PQbygE41ZPdACHnjKaZ1H0zxSL1LcmvoG1PVsTw2'\n",
        "\n",
        "    # 인증키 값들 보내주기\n",
        "    auth = tweepy.OAuthHandler(consumer_key, consumer_secret) # 인증 핸들러 (consumer_key, consumer_secret)\n",
        "    auth.set_access_token(access_token, access_token_secret)  # access_token, access_token_secret\n",
        "\n",
        "    # 트위터 연동\n",
        "    try :\n",
        "        api = tweepy.API(auth)\n",
        "        print('트위터 연동 Success')\n",
        "    except Exception : \n",
        "        print('트위터 연동 Failure')\n",
        "    \n",
        "    api.update_status(tweet)\n",
        "    print(\"전송 완료\")"
      ],
      "execution_count": 29,
      "outputs": []
    },
    {
      "cell_type": "code",
      "metadata": {
        "colab": {
          "base_uri": "https://localhost:8080/"
        },
        "id": "9-lXIH1zvD-D",
        "outputId": "6e5330d5-c570-4af2-aa7d-9bb626c63b1d"
      },
      "source": [
        "tweet = '하나 둘 셋 야!'\n",
        "send_twitter(tweet)"
      ],
      "execution_count": 30,
      "outputs": [
        {
          "output_type": "stream",
          "text": [
            "트위터 연동 Success\n",
            "전송 완료\n"
          ],
          "name": "stdout"
        }
      ]
    },
    {
      "cell_type": "markdown",
      "metadata": {
        "id": "xMgZvdpOvD-D"
      },
      "source": [
        "## 사진도 함께 전송"
      ]
    },
    {
      "cell_type": "code",
      "metadata": {
        "colab": {
          "base_uri": "https://localhost:8080/"
        },
        "id": "gWy472cLvD-D",
        "outputId": "c3d574ee-3612-4438-d2ab-d8ce29318083"
      },
      "source": [
        "consumer_key = 'G3IuuwV43XiFjciRKMHUHPRnP'\n",
        "consumer_secret = 'Lfet5uPwvG1qCLCuCxmhvk8AOcjIdcuaNVuOdUXWmpP3wjIkw2' # Secret Key\n",
        "access_token = '1364114536626749441-0ILRGxLotKxyx20AJOCCXBwNWRyoLa'\n",
        "access_token_secret = '1Oam6PQbygE41ZPdACHnjKaZ1H0zxSL1LcmvoG1PVsTw2'\n",
        "\n",
        "# 인증키 값들 보내주기\n",
        "auth = tweepy.OAuthHandler(consumer_key, consumer_secret) # consumer_key, consumer_secret\n",
        "auth.set_access_token(access_token, access_token_secret)  # access_token, access_token_secret\n",
        "\n",
        "try :\n",
        "    api = tweepy.API(auth)\n",
        "    print('트위터 연동 Success')\n",
        "except Exception : \n",
        "    print('트위터 연동 Failure')"
      ],
      "execution_count": 31,
      "outputs": [
        {
          "output_type": "stream",
          "text": [
            "트위터 연동 Success\n"
          ],
          "name": "stdout"
        }
      ]
    },
    {
      "cell_type": "code",
      "metadata": {
        "jupyter": {
          "outputs_hidden": true
        },
        "colab": {
          "base_uri": "https://localhost:8080/"
        },
        "id": "3S2L4P80vD-D",
        "outputId": "c8fcb738-6ab7-4031-948c-518fdd6ddccd"
      },
      "source": [
        "# 사진도 같이 업로드!\n",
        "\n",
        "tweet = '!야 셋 둘 하나'                                  # tweet할 메시지\n",
        "media_ids = []                                            # 빈 리스트 생성\n",
        "res = api.media_upload('./weird.jpg')                     # response. 사진 업로드해서 res에 할당\n",
        "media_ids.append(res.media_id)                            # 리스트에 이미지 주소 추가\n",
        "api.update_status(media_ids = media_ids, status = tweet)  # 이미지, 트윗 올리기"
      ],
      "execution_count": 32,
      "outputs": [
        {
          "output_type": "execute_result",
          "data": {
            "text/plain": [
              "Status(_api=<tweepy.api.API object at 0x7f318601e4d0>, _json={'created_at': 'Fri Jul 23 08:49:21 +0000 2021', 'id': 1418493423116603392, 'id_str': '1418493423116603392', 'text': '!야 셋 둘 하나 https://t.co/9SKQ5bhEpw', 'truncated': False, 'entities': {'hashtags': [], 'symbols': [], 'user_mentions': [], 'urls': [], 'media': [{'id': 1418493421786968064, 'id_str': '1418493421786968064', 'indices': [10, 33], 'media_url': 'http://pbs.twimg.com/media/E6-AQGnXMAAQTb-.jpg', 'media_url_https': 'https://pbs.twimg.com/media/E6-AQGnXMAAQTb-.jpg', 'url': 'https://t.co/9SKQ5bhEpw', 'display_url': 'pic.twitter.com/9SKQ5bhEpw', 'expanded_url': 'https://twitter.com/firmbarrentree/status/1418493423116603392/photo/1', 'type': 'photo', 'sizes': {'thumb': {'w': 150, 'h': 150, 'resize': 'crop'}, 'medium': {'w': 1000, 'h': 750, 'resize': 'fit'}, 'large': {'w': 1000, 'h': 750, 'resize': 'fit'}, 'small': {'w': 680, 'h': 510, 'resize': 'fit'}}}]}, 'extended_entities': {'media': [{'id': 1418493421786968064, 'id_str': '1418493421786968064', 'indices': [10, 33], 'media_url': 'http://pbs.twimg.com/media/E6-AQGnXMAAQTb-.jpg', 'media_url_https': 'https://pbs.twimg.com/media/E6-AQGnXMAAQTb-.jpg', 'url': 'https://t.co/9SKQ5bhEpw', 'display_url': 'pic.twitter.com/9SKQ5bhEpw', 'expanded_url': 'https://twitter.com/firmbarrentree/status/1418493423116603392/photo/1', 'type': 'photo', 'sizes': {'thumb': {'w': 150, 'h': 150, 'resize': 'crop'}, 'medium': {'w': 1000, 'h': 750, 'resize': 'fit'}, 'large': {'w': 1000, 'h': 750, 'resize': 'fit'}, 'small': {'w': 680, 'h': 510, 'resize': 'fit'}}}]}, 'source': '<a href=\"https://help.twitter.com/en/using-twitter/how-to-tweet#source-labels\" rel=\"nofollow\">firmbarrentree</a>', 'in_reply_to_status_id': None, 'in_reply_to_status_id_str': None, 'in_reply_to_user_id': None, 'in_reply_to_user_id_str': None, 'in_reply_to_screen_name': None, 'user': {'id': 1364114536626749441, 'id_str': '1364114536626749441', 'name': 'firmbarrentree', 'screen_name': 'firmbarrentree', 'location': '', 'description': '체감하는 탄탄척박나무의 작품성이 서글프단 말입니다', 'url': None, 'entities': {'description': {'urls': []}}, 'protected': False, 'followers_count': 2, 'friends_count': 24, 'listed_count': 0, 'created_at': 'Tue Feb 23 07:27:12 +0000 2021', 'favourites_count': 0, 'utc_offset': None, 'time_zone': None, 'geo_enabled': False, 'verified': False, 'statuses_count': 53, 'lang': None, 'contributors_enabled': False, 'is_translator': False, 'is_translation_enabled': False, 'profile_background_color': 'F5F8FA', 'profile_background_image_url': None, 'profile_background_image_url_https': None, 'profile_background_tile': False, 'profile_image_url': 'http://abs.twimg.com/sticky/default_profile_images/default_profile_normal.png', 'profile_image_url_https': 'https://abs.twimg.com/sticky/default_profile_images/default_profile_normal.png', 'profile_link_color': '1DA1F2', 'profile_sidebar_border_color': 'C0DEED', 'profile_sidebar_fill_color': 'DDEEF6', 'profile_text_color': '333333', 'profile_use_background_image': True, 'has_extended_profile': True, 'default_profile': True, 'default_profile_image': True, 'following': False, 'follow_request_sent': False, 'notifications': False, 'translator_type': 'none', 'withheld_in_countries': []}, 'geo': None, 'coordinates': None, 'place': None, 'contributors': None, 'is_quote_status': False, 'retweet_count': 0, 'favorite_count': 0, 'favorited': False, 'retweeted': False, 'possibly_sensitive': False, 'lang': 'ko'}, created_at=datetime.datetime(2021, 7, 23, 8, 49, 21), id=1418493423116603392, id_str='1418493423116603392', text='!야 셋 둘 하나 https://t.co/9SKQ5bhEpw', truncated=False, entities={'hashtags': [], 'symbols': [], 'user_mentions': [], 'urls': [], 'media': [{'id': 1418493421786968064, 'id_str': '1418493421786968064', 'indices': [10, 33], 'media_url': 'http://pbs.twimg.com/media/E6-AQGnXMAAQTb-.jpg', 'media_url_https': 'https://pbs.twimg.com/media/E6-AQGnXMAAQTb-.jpg', 'url': 'https://t.co/9SKQ5bhEpw', 'display_url': 'pic.twitter.com/9SKQ5bhEpw', 'expanded_url': 'https://twitter.com/firmbarrentree/status/1418493423116603392/photo/1', 'type': 'photo', 'sizes': {'thumb': {'w': 150, 'h': 150, 'resize': 'crop'}, 'medium': {'w': 1000, 'h': 750, 'resize': 'fit'}, 'large': {'w': 1000, 'h': 750, 'resize': 'fit'}, 'small': {'w': 680, 'h': 510, 'resize': 'fit'}}}]}, extended_entities={'media': [{'id': 1418493421786968064, 'id_str': '1418493421786968064', 'indices': [10, 33], 'media_url': 'http://pbs.twimg.com/media/E6-AQGnXMAAQTb-.jpg', 'media_url_https': 'https://pbs.twimg.com/media/E6-AQGnXMAAQTb-.jpg', 'url': 'https://t.co/9SKQ5bhEpw', 'display_url': 'pic.twitter.com/9SKQ5bhEpw', 'expanded_url': 'https://twitter.com/firmbarrentree/status/1418493423116603392/photo/1', 'type': 'photo', 'sizes': {'thumb': {'w': 150, 'h': 150, 'resize': 'crop'}, 'medium': {'w': 1000, 'h': 750, 'resize': 'fit'}, 'large': {'w': 1000, 'h': 750, 'resize': 'fit'}, 'small': {'w': 680, 'h': 510, 'resize': 'fit'}}}]}, source='firmbarrentree', source_url='https://help.twitter.com/en/using-twitter/how-to-tweet#source-labels', in_reply_to_status_id=None, in_reply_to_status_id_str=None, in_reply_to_user_id=None, in_reply_to_user_id_str=None, in_reply_to_screen_name=None, author=User(_api=<tweepy.api.API object at 0x7f318601e4d0>, _json={'id': 1364114536626749441, 'id_str': '1364114536626749441', 'name': 'firmbarrentree', 'screen_name': 'firmbarrentree', 'location': '', 'description': '체감하는 탄탄척박나무의 작품성이 서글프단 말입니다', 'url': None, 'entities': {'description': {'urls': []}}, 'protected': False, 'followers_count': 2, 'friends_count': 24, 'listed_count': 0, 'created_at': 'Tue Feb 23 07:27:12 +0000 2021', 'favourites_count': 0, 'utc_offset': None, 'time_zone': None, 'geo_enabled': False, 'verified': False, 'statuses_count': 53, 'lang': None, 'contributors_enabled': False, 'is_translator': False, 'is_translation_enabled': False, 'profile_background_color': 'F5F8FA', 'profile_background_image_url': None, 'profile_background_image_url_https': None, 'profile_background_tile': False, 'profile_image_url': 'http://abs.twimg.com/sticky/default_profile_images/default_profile_normal.png', 'profile_image_url_https': 'https://abs.twimg.com/sticky/default_profile_images/default_profile_normal.png', 'profile_link_color': '1DA1F2', 'profile_sidebar_border_color': 'C0DEED', 'profile_sidebar_fill_color': 'DDEEF6', 'profile_text_color': '333333', 'profile_use_background_image': True, 'has_extended_profile': True, 'default_profile': True, 'default_profile_image': True, 'following': False, 'follow_request_sent': False, 'notifications': False, 'translator_type': 'none', 'withheld_in_countries': []}, id=1364114536626749441, id_str='1364114536626749441', name='firmbarrentree', screen_name='firmbarrentree', location='', description='체감하는 탄탄척박나무의 작품성이 서글프단 말입니다', url=None, entities={'description': {'urls': []}}, protected=False, followers_count=2, friends_count=24, listed_count=0, created_at=datetime.datetime(2021, 2, 23, 7, 27, 12), favourites_count=0, utc_offset=None, time_zone=None, geo_enabled=False, verified=False, statuses_count=53, lang=None, contributors_enabled=False, is_translator=False, is_translation_enabled=False, profile_background_color='F5F8FA', profile_background_image_url=None, profile_background_image_url_https=None, profile_background_tile=False, profile_image_url='http://abs.twimg.com/sticky/default_profile_images/default_profile_normal.png', profile_image_url_https='https://abs.twimg.com/sticky/default_profile_images/default_profile_normal.png', profile_link_color='1DA1F2', profile_sidebar_border_color='C0DEED', profile_sidebar_fill_color='DDEEF6', profile_text_color='333333', profile_use_background_image=True, has_extended_profile=True, default_profile=True, default_profile_image=True, following=False, follow_request_sent=False, notifications=False, translator_type='none', withheld_in_countries=[]), user=User(_api=<tweepy.api.API object at 0x7f318601e4d0>, _json={'id': 1364114536626749441, 'id_str': '1364114536626749441', 'name': 'firmbarrentree', 'screen_name': 'firmbarrentree', 'location': '', 'description': '체감하는 탄탄척박나무의 작품성이 서글프단 말입니다', 'url': None, 'entities': {'description': {'urls': []}}, 'protected': False, 'followers_count': 2, 'friends_count': 24, 'listed_count': 0, 'created_at': 'Tue Feb 23 07:27:12 +0000 2021', 'favourites_count': 0, 'utc_offset': None, 'time_zone': None, 'geo_enabled': False, 'verified': False, 'statuses_count': 53, 'lang': None, 'contributors_enabled': False, 'is_translator': False, 'is_translation_enabled': False, 'profile_background_color': 'F5F8FA', 'profile_background_image_url': None, 'profile_background_image_url_https': None, 'profile_background_tile': False, 'profile_image_url': 'http://abs.twimg.com/sticky/default_profile_images/default_profile_normal.png', 'profile_image_url_https': 'https://abs.twimg.com/sticky/default_profile_images/default_profile_normal.png', 'profile_link_color': '1DA1F2', 'profile_sidebar_border_color': 'C0DEED', 'profile_sidebar_fill_color': 'DDEEF6', 'profile_text_color': '333333', 'profile_use_background_image': True, 'has_extended_profile': True, 'default_profile': True, 'default_profile_image': True, 'following': False, 'follow_request_sent': False, 'notifications': False, 'translator_type': 'none', 'withheld_in_countries': []}, id=1364114536626749441, id_str='1364114536626749441', name='firmbarrentree', screen_name='firmbarrentree', location='', description='체감하는 탄탄척박나무의 작품성이 서글프단 말입니다', url=None, entities={'description': {'urls': []}}, protected=False, followers_count=2, friends_count=24, listed_count=0, created_at=datetime.datetime(2021, 2, 23, 7, 27, 12), favourites_count=0, utc_offset=None, time_zone=None, geo_enabled=False, verified=False, statuses_count=53, lang=None, contributors_enabled=False, is_translator=False, is_translation_enabled=False, profile_background_color='F5F8FA', profile_background_image_url=None, profile_background_image_url_https=None, profile_background_tile=False, profile_image_url='http://abs.twimg.com/sticky/default_profile_images/default_profile_normal.png', profile_image_url_https='https://abs.twimg.com/sticky/default_profile_images/default_profile_normal.png', profile_link_color='1DA1F2', profile_sidebar_border_color='C0DEED', profile_sidebar_fill_color='DDEEF6', profile_text_color='333333', profile_use_background_image=True, has_extended_profile=True, default_profile=True, default_profile_image=True, following=False, follow_request_sent=False, notifications=False, translator_type='none', withheld_in_countries=[]), geo=None, coordinates=None, place=None, contributors=None, is_quote_status=False, retweet_count=0, favorite_count=0, favorited=False, retweeted=False, possibly_sensitive=False, lang='ko')"
            ]
          },
          "metadata": {
            "tags": []
          },
          "execution_count": 32
        }
      ]
    },
    {
      "cell_type": "markdown",
      "metadata": {
        "id": "CNjmLq_MvD-E"
      },
      "source": [
        "## 사진 업로드까지 합친 함수"
      ]
    },
    {
      "cell_type": "code",
      "metadata": {
        "id": "jQB1ZgN9vD-E"
      },
      "source": [
        "def send_twitter_with_image(tweet, image_path):\n",
        "    \n",
        "    # 각자 트위터 값으로 바꿔주기\n",
        "    consumer_key = 'G3IuuwV43XiFjciRKMHUHPRnP'\n",
        "    consumer_secret = 'Lfet5uPwvG1qCLCuCxmhvk8AOcjIdcuaNVuOdUXWmpP3wjIkw2' # Secret Key\n",
        "    access_token = '1364114536626749441-0ILRGxLotKxyx20AJOCCXBwNWRyoLa'\n",
        "    access_token_secret = '1Oam6PQbygE41ZPdACHnjKaZ1H0zxSL1LcmvoG1PVsTw2'\n",
        "\n",
        "    # 인증키 값들 보내주기\n",
        "    auth = tweepy.OAuthHandler(consumer_key, consumer_secret)  # consumer_key, consumer_secret\n",
        "    auth.set_access_token(access_token, access_token_secret)   # access_token, access_token_secret\n",
        "\n",
        "    try :\n",
        "        api = tweepy.API(auth)\n",
        "        print('트위터 연동 Success')\n",
        "    except Exception : \n",
        "        print('트위터 연동 Failure')\n",
        "    \n",
        "    # tweet = tweet\n",
        "    media_ids = []                      # 빈 리스트 생성\n",
        "    res = api.media_upload(image_path)  # response. 사진 업로드해서 res에 할당\n",
        "    media_ids.append(res.media_id)      # 리스트에 이미지 주소 추가\n",
        "    api.update_status(media_ids=media_ids,status=tweet)  # 이미지, 트윗 올리기\n",
        "    \n",
        "    print(\"전송완료\")"
      ],
      "execution_count": 35,
      "outputs": []
    },
    {
      "cell_type": "code",
      "metadata": {
        "colab": {
          "base_uri": "https://localhost:8080/"
        },
        "id": "xdXisHeNvD-E",
        "outputId": "07e7c8e7-d2eb-4fd7-9f91-8cd8dd58147e"
      },
      "source": [
        "tweet = '야 야! 하나 셋' \n",
        "image_path = './weird.jpg'  # 사진의 경로 \n",
        "send_twitter_with_image(tweet, image_path)"
      ],
      "execution_count": 36,
      "outputs": [
        {
          "output_type": "stream",
          "text": [
            "트위터 연동 Success\n",
            "전송완료\n"
          ],
          "name": "stdout"
        }
      ]
    },
    {
      "cell_type": "markdown",
      "metadata": {
        "id": "LZGHrTK9vD-E"
      },
      "source": [
        "# 최종\n",
        "##  공공데이터로 불러온 날씨도 넣어서 완성해보자!"
      ]
    },
    {
      "cell_type": "code",
      "metadata": {
        "id": "kkSbqXm5vD-E"
      },
      "source": [
        "def change_rain_data(result):\n",
        "    \n",
        "    weather = result['weather']\n",
        "    \n",
        "    if weather =='비':\n",
        "        rain_data = '비가 올 것으로 예상됩니다.'\n",
        "    elif weather =='비/눈':\n",
        "        rain_data = '비나 눈이 올 것으로 예상됩니다.'\n",
        "    elif weather == '눈':\n",
        "        rain_data = '눈이 올 것으로 예상됩니다.'\n",
        "    elif weather == '소나기':\n",
        "        rain_data = '소나기가 올 것으로 예상됩니다.'\n",
        "    else:\n",
        "        rain_data = '비 소식은 없습니다.'\n",
        "    \n",
        "    return rain_data"
      ],
      "execution_count": 37,
      "outputs": []
    },
    {
      "cell_type": "code",
      "metadata": {
        "colab": {
          "base_uri": "https://localhost:8080/",
          "height": 35
        },
        "id": "C-3SGKGyvD-E",
        "outputId": "ddb40f7b-09b3-4148-a93e-e36dbabadf32"
      },
      "source": [
        "change_rain_data(result)"
      ],
      "execution_count": 38,
      "outputs": [
        {
          "output_type": "execute_result",
          "data": {
            "application/vnd.google.colaboratory.intrinsic+json": {
              "type": "string"
            },
            "text/plain": [
              "'비 소식은 없습니다.'"
            ]
          },
          "metadata": {
            "tags": []
          },
          "execution_count": 38
        }
      ]
    },
    {
      "cell_type": "code",
      "metadata": {
        "colab": {
          "base_uri": "https://localhost:8080/"
        },
        "id": "hK0zD5YRvD-E",
        "outputId": "29d11026-8188-4a91-bf8e-154500e57c6d"
      },
      "source": [
        "result"
      ],
      "execution_count": 39,
      "outputs": [
        {
          "output_type": "execute_result",
          "data": {
            "text/plain": [
              "{'date': '20210723', 'temperature': '32', 'weather': '없음'}"
            ]
          },
          "metadata": {
            "tags": []
          },
          "execution_count": 39
        }
      ]
    },
    {
      "cell_type": "code",
      "metadata": {
        "id": "ucZPIF8VvD-F"
      },
      "source": [
        "def final_code(service_key, base_date, base_time, nx, ny):\n",
        "    \n",
        "    result = get_final_weather_data(service_key, base_date, base_time, nx, ny)\n",
        "    rain_data = change_rain_data(result)\n",
        "    \n",
        "    tweet = '고래 어깨가 무친 것은 ' + result['temperature'] + '시절만큼의 힘을, ' + rain_data\n",
        "    image_path = './weird.jpg'  # 사진의 경로 \n",
        "    send_twitter_with_image(tweet, image_path)"
      ],
      "execution_count": 41,
      "outputs": []
    },
    {
      "cell_type": "code",
      "metadata": {
        "id": "jv4TYwtYvD-F",
        "colab": {
          "base_uri": "https://localhost:8080/"
        },
        "outputId": "ae4e3656-9018-4126-a078-37efd8496390"
      },
      "source": [
        "final_code(service_key, base_date, base_time, nx, ny)"
      ],
      "execution_count": 42,
      "outputs": [
        {
          "output_type": "stream",
          "text": [
            "트위터 연동 Success\n",
            "전송완료\n"
          ],
          "name": "stdout"
        }
      ]
    },
    {
      "cell_type": "markdown",
      "metadata": {
        "id": "SQexPiXPwPOC"
      },
      "source": [
        "# 매일 아침 8시에 트위터로 날씨 보내기 (스케쥴링)\n",
        "\n",
        "## 여기서부터는 실행하지 말아 주세요! "
      ]
    },
    {
      "cell_type": "code",
      "metadata": {
        "id": "UiyherR3wPAT"
      },
      "source": [
        "# 필요 패키지 가져오기\n",
        "import schedule\n",
        "from time import sleep"
      ],
      "execution_count": null,
      "outputs": []
    },
    {
      "cell_type": "code",
      "metadata": {
        "id": "pNQr16fHwO9W"
      },
      "source": [
        "# 매일 xx시 xx분 업로드 되게끔 설정\n",
        "schedule.every().day.at(\"08:10\").do(final_code)\n",
        "while True:\n",
        "    schedule.run_pending()\n",
        "    sleep(30) "
      ],
      "execution_count": null,
      "outputs": []
    },
    {
      "cell_type": "code",
      "metadata": {
        "id": "-j27A-9RwO7i"
      },
      "source": [
        ""
      ],
      "execution_count": null,
      "outputs": []
    },
    {
      "cell_type": "markdown",
      "metadata": {
        "id": "KcSxcOqZwj4T"
      },
      "source": [
        "# 과제"
      ]
    },
    {
      "cell_type": "markdown",
      "metadata": {
        "id": "muVCLFWXvD-F"
      },
      "source": [
        "# 실시간 미세먼지 데이터 가져와서 트위터로 보내기\n",
        "\n",
        "* 각 구의 실시간 미세먼지 데이터를 가져와서 이를 트위터로 보내보는 것이 실습 과제입니다!\n",
        "\n",
        "\n",
        "\n",
        "**웹페이지에서 해야 하는 내용**\n",
        "\n",
        "1) 회원가입을 한다. \n",
        "\n",
        "2) 내가 받고자 하는 공공데이터 API를 찾는다\n",
        "\n",
        "3) 활용신청을 해  API Key를 받는다\n",
        "\n",
        "4) 내가 요청하고자 하는 내용을 설명서에서 찾는다\n",
        "\n",
        "5) 요청하고자 하는 변수를 기록해둔다.\n",
        "\n",
        "6) 응답받을 내용을 기록해둔다. \n",
        "\n",
        "---\n",
        "\n",
        "**코딩이 필요한 절차** \n",
        "\n",
        "7) Request를 한다. \n",
        "\n",
        "8) Response를 받는다\n",
        "\n",
        "9) 6)에서 적어둔 Response의 내용별 CODE를 설명서에서 찾아 해석한다\n",
        "\n",
        "10) 내가 원하는 정보만 뽑아낸다."
      ]
    },
    {
      "cell_type": "code",
      "metadata": {
        "id": "Io6na-ZEvD-F"
      },
      "source": [
        ""
      ],
      "execution_count": null,
      "outputs": []
    }
  ]
}